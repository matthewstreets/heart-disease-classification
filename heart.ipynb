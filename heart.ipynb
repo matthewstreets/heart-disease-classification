{
 "cells": [
  {
   "attachments": {},
   "cell_type": "markdown",
   "metadata": {},
   "source": [
    "# Data Analytics Project\n",
    "## Heart Failure Classification\n",
    "Dataset provided by [Kaggle](https://www.kaggle.com/datasets/fedesoriano/heart-failure-prediction)\n",
    "### 1. Data Preparation"
   ]
  },
  {
   "cell_type": "code",
   "execution_count": null,
   "metadata": {},
   "outputs": [],
   "source": [
    "# data wrangling and visualisation libraries\n",
    "import pandas as pd \n",
    "import numpy as np \n",
    "import seaborn as sns \n",
    "from matplotlib import pyplot as plt \n",
    "import sklearn \n",
    "\n",
    "# prevents warnings from happening\n",
    "import warnings \n",
    "warnings.simplefilter('ignore', category=UserWarning)\n",
    "\n",
    "# makes plots pretty in jupyternotebook\n",
    "%matplotlib inline\n",
    "\n",
    "df = pd.read_csv()"
   ]
  }
 ],
 "metadata": {
  "language_info": {
   "name": "python"
  },
  "orig_nbformat": 4
 },
 "nbformat": 4,
 "nbformat_minor": 2
}
